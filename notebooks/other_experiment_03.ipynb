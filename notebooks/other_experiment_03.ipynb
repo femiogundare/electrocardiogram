{
 "cells": [
  {
   "cell_type": "code",
   "execution_count": 1,
   "metadata": {},
   "outputs": [],
   "source": [
    "import os\n",
    "import sys\n",
    "import math\n",
    "import json\n",
    "import numpy as np\n",
    "import matplotlib\n",
    "from matplotlib import pyplot as plt\n",
    "import sklearn\n",
    "from sklearn import metrics\n",
    "from tensorflow import keras\n",
    "sys.path.append('C:\\\\Users\\\\Dell\\\\Desktop\\\\CV Projects\\\\ecg')\n",
    "\n",
    "import load\n",
    "import network\n",
    "import utilities"
   ]
  },
  {
   "cell_type": "code",
   "execution_count": 2,
   "metadata": {},
   "outputs": [],
   "source": [
    "base_dir = 'C:\\\\Users\\\\Dell\\\\Desktop\\\\CV Projects\\\\ecg'"
   ]
  },
  {
   "cell_type": "code",
   "execution_count": 3,
   "metadata": {},
   "outputs": [],
   "source": [
    "model_path = os.path.join(base_dir, 'saved/ecg_experiment_01/090607/0.534-0.954-011-0.430-0.966.hdf5')\n",
    "data_json = os.path.join(base_dir, 'data/test.json')\n",
    "config_file = os.path.join(base_dir, 'config.json')"
   ]
  },
  {
   "cell_type": "code",
   "execution_count": 4,
   "metadata": {},
   "outputs": [
    {
     "name": "stderr",
     "output_type": "stream",
     "text": [
      "100%|██████████████████████████████████████████████████████████████████████████████| 852/852 [00:00<00:00, 3196.13it/s]\n"
     ]
    }
   ],
   "source": [
    "preprocessor = utilities.load(os.path.dirname(model_path))\n",
    "dataset = load.load_dataset(data_json)\n",
    "ecgs, committee_labels = preprocessor.process(*dataset)"
   ]
  },
  {
   "cell_type": "code",
   "execution_count": 5,
   "metadata": {},
   "outputs": [],
   "source": [
    "params = json.load(open(config_file, 'r'))"
   ]
  },
  {
   "cell_type": "code",
   "execution_count": 6,
   "metadata": {},
   "outputs": [],
   "source": [
    "params.update({\n",
    "        'input_shape' : [None, 1],\n",
    "        'num_categories' : len(preprocessor.classes)\n",
    "    })"
   ]
  },
  {
   "cell_type": "code",
   "execution_count": 7,
   "metadata": {},
   "outputs": [],
   "source": [
    "model = network.build_network(**params)\n",
    "model.load_weights(model_path)"
   ]
  },
  {
   "cell_type": "code",
   "execution_count": 8,
   "metadata": {},
   "outputs": [
    {
     "data": {
      "text/plain": [
       "(852, 71, 4)"
      ]
     },
     "execution_count": 8,
     "metadata": {},
     "output_type": "execute_result"
    }
   ],
   "source": [
    "probs = model.predict(ecgs, verbose=0)\n",
    "probs.shape"
   ]
  },
  {
   "cell_type": "code",
   "execution_count": 9,
   "metadata": {},
   "outputs": [],
   "source": [
    "def stats(ground_truth, preds):\n",
    "    labels = range(ground_truth.shape[2])\n",
    "    g = np.argmax(ground_truth, axis=2).ravel()\n",
    "    p = np.argmax(preds, axis=2).ravel()\n",
    "    stat_dict = {}\n",
    "    for i in labels:\n",
    "        tp = np.sum(g[g==i] == p[g==i])\n",
    "        fp = np.sum(g[p==i] != p[p==i])\n",
    "        fn = np.sum(g==i) - tp\n",
    "        tn = np.sum(g!=i) - fp\n",
    "        stat_dict[i] = (tp, fp, fn, tn)\n",
    "    return stat_dict\n",
    "\n",
    "\n",
    "def to_set(preds):\n",
    "    idxs = np.argmax(preds, axis=2)\n",
    "    return [list(set(r)) for r in idxs]\n",
    "\n",
    "\n",
    "def set_stats(ground_truth, preds):\n",
    "    labels = range(ground_truth.shape[2])\n",
    "    ground_truth = to_set(ground_truth)\n",
    "    preds = to_set(preds)\n",
    "    stat_dict = {}\n",
    "    for x in labels:\n",
    "        tp = 0; fp = 0; fn = 0; tn = 0;\n",
    "        for g, p in zip(ground_truth, preds):\n",
    "            if x in g and x in p:\n",
    "                tp += 1\n",
    "            elif x not in g and x in p:\n",
    "                fp +=1\n",
    "            elif x in g and x not in p:\n",
    "                fn += 1\n",
    "            elif x not in g and x not in p:\n",
    "                tn += 1\n",
    "        stat_dict[x] = (tp, fp, fn, tn)\n",
    "    return stat_dict"
   ]
  },
  {
   "cell_type": "code",
   "execution_count": 13,
   "metadata": {},
   "outputs": [],
   "source": [
    "def precision_recall_curve(ground_truth, probs, classes):\n",
    "    gt = np.argmax(ground_truth, axis=2)\n",
    "        \n",
    "    f, ax = plt.subplots(2,2,figsize=(14,11))\n",
    "    ax = [a for i in ax for a in i]\n",
    "        \n",
    "    for e, c in enumerate(classes):\n",
    "        class_idx = preprocessor.class_to_int[c]\n",
    "        \n",
    "        binary_gt = gt == class_idx\n",
    "        binary_probs = probs[..., class_idx]\n",
    "        ppvs, senss, _ = metrics.precision_recall_curve(binary_gt.ravel(), binary_probs.ravel())\n",
    "\n",
    "        cax = ax[e]\n",
    "        cax.plot(senss, ppvs, lw=2, label=\"Model\")\n",
    "        cax.set_xlim(0.0, 1.01)\n",
    "        cax.set_ylim(0.0, 1.01)\n",
    "        cax.set_title(\"Class: {}\".format(class_full_name(c)))\n",
    "        cax.set_xlabel('Sensitivity (Recall)')\n",
    "        cax.set_ylabel('PPV (Precision)')\n",
    "        cax.legend(loc=0)\n",
    "    \n",
    "    \n",
    "def roc_curve(ground_truth, probs, classes,\n",
    "              y_start):\n",
    "    gt = np.argmax(ground_truth, axis=2)\n",
    "    \n",
    "    f, ax = plt.subplots(2,2,figsize=(14,11))\n",
    "    ax = [a for i in ax for a in i]\n",
    "    \n",
    "    for e, c in enumerate(classes):\n",
    "        class_idx = preprocessor.class_to_int[c]\n",
    "        binary_gt = gt == class_idx\n",
    "        binary_probs = probs[..., class_idx]\n",
    "\n",
    "        fps, tps, _ = metrics.roc_curve(binary_gt.ravel(), binary_probs.ravel())\n",
    "        cax = ax[e]\n",
    "        cax.plot(fps, tps, lw=2, label=\"Model\")\n",
    "        cax.set_xlim(-0.008, 0.5)\n",
    "        cax.set_ylim(y_start, 1.05)\n",
    "        cax.set_title(\"Class: {}\".format(c))\n",
    "        cax.set_xlabel('1 - Specificity')\n",
    "        cax.set_ylabel('Sensitivity')\n",
    "        cax.legend(loc=4)"
   ]
  },
  {
   "cell_type": "code",
   "execution_count": 14,
   "metadata": {},
   "outputs": [],
   "source": [
    "#precision_recall_curve(committee_labels, \n",
    "#                       probs, \n",
    "#                       classes=['A', 'N', 'O', '~'],\n",
    "#                      )"
   ]
  },
  {
   "cell_type": "code",
   "execution_count": 15,
   "metadata": {},
   "outputs": [
    {
     "data": {
      "image/png": "[encoded data removed]",
      "text/plain": [
       "<Figure size 1008x792 with 4 Axes>"
      ]
     },
     "metadata": {
      "needs_background": "light"
     },
     "output_type": "display_data"
    }
   ],
   "source": [
    "roc_curve(committee_labels, probs, classes=['A', 'N', 'O', '~'], \n",
    "          y_start=0.0)"
   ]
  },
  {
   "cell_type": "code",
   "execution_count": null,
   "metadata": {},
   "outputs": [],
   "source": []
  }
 ],
 "metadata": {
  "kernelspec": {
   "display_name": "Python 3.7 (tensorflow)",
   "language": "python",
   "name": "tensorflow"
  },
  "language_info": {
   "codemirror_mode": {
    "name": "ipython",
    "version": 3
   },
   "file_extension": ".py",
   "mimetype": "text/x-python",
   "name": "python",
   "nbconvert_exporter": "python",
   "pygments_lexer": "ipython3",
   "version": "3.7.7"
  }
 },
 "nbformat": 4,
 "nbformat_minor": 4
}
