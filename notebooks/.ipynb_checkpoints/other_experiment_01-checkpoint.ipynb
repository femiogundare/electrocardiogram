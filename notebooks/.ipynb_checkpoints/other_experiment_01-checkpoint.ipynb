{
 "cells": [
  {
   "cell_type": "code",
   "execution_count": 1,
   "metadata": {},
   "outputs": [],
   "source": [
    "import os\n",
    "import sys\n",
    "import math\n",
    "import json\n",
    "import numpy as np\n",
    "from sklearn.metrics import roc_auc_score\n",
    "from tensorflow import keras\n",
    "sys.path.append('C:\\\\Users\\\\Dell\\\\Desktop\\\\CV Projects\\\\ecg')\n",
    "\n",
    "import load\n",
    "import network\n",
    "import utilities"
   ]
  },
  {
   "cell_type": "code",
   "execution_count": 2,
   "metadata": {},
   "outputs": [],
   "source": [
    "base_dir = 'C:\\\\Users\\\\Dell\\\\Desktop\\\\CV Projects\\\\ecg'"
   ]
  },
  {
   "cell_type": "code",
   "execution_count": 3,
   "metadata": {},
   "outputs": [],
   "source": [
    "model_path = os.path.join(base_dir, 'saved/ecg_experiment_01/090607/0.534-0.954-011-0.430-0.966.hdf5')\n",
    "data_json = os.path.join(base_dir, 'data/val.json')\n",
    "config_file = os.path.join(base_dir, 'config.json')"
   ]
  },
  {
   "cell_type": "code",
   "execution_count": 4,
   "metadata": {},
   "outputs": [
    {
     "name": "stderr",
     "output_type": "stream",
     "text": [
      "100%|████████████████████████████████████████████████████████████████████████████████| 852/852 [00:24<00:00, 34.58it/s]\n"
     ]
    }
   ],
   "source": [
    "preprocessor = utilities.load(os.path.dirname(model_path))\n",
    "dataset = load.load_dataset(data_json)\n",
    "ecgs, labels = preprocessor.process(*dataset)"
   ]
  },
  {
   "cell_type": "code",
   "execution_count": 5,
   "metadata": {},
   "outputs": [],
   "source": [
    "params = json.load(open(config_file, 'r'))"
   ]
  },
  {
   "cell_type": "code",
   "execution_count": 6,
   "metadata": {},
   "outputs": [],
   "source": [
    "params.update({\n",
    "        'input_shape' : [None, 1],\n",
    "        'num_categories' : len(preprocessor.classes)\n",
    "    })"
   ]
  },
  {
   "cell_type": "code",
   "execution_count": 7,
   "metadata": {},
   "outputs": [],
   "source": [
    "model = network.build_network(**params)\n",
    "model.load_weights(model_path)"
   ]
  },
  {
   "cell_type": "code",
   "execution_count": 8,
   "metadata": {},
   "outputs": [
    {
     "data": {
      "text/plain": [
       "(852, 70, 4)"
      ]
     },
     "execution_count": 8,
     "metadata": {},
     "output_type": "execute_result"
    }
   ],
   "source": [
    "probs = model.predict(ecgs, verbose=0)\n",
    "probs.shape"
   ]
  },
  {
   "cell_type": "code",
   "execution_count": 9,
   "metadata": {},
   "outputs": [
    {
     "data": {
      "text/plain": [
       "array([[1.7419802e-02, 2.4686202e-02, 9.5464623e-01, 3.2478312e-03],\n",
       "       [2.0965284e-02, 3.8706653e-02, 9.3614364e-01, 4.1843918e-03],\n",
       "       [3.1738374e-02, 3.7591409e-02, 9.2480069e-01, 5.8695506e-03],\n",
       "       [3.5588272e-02, 3.9788108e-02, 9.1911137e-01, 5.5123335e-03],\n",
       "       [2.2712620e-02, 3.8828801e-02, 9.3385828e-01, 4.6002222e-03],\n",
       "       [5.7084411e-02, 4.9791113e-02, 8.8885355e-01, 4.2709075e-03],\n",
       "       [4.0995199e-02, 6.9723375e-02, 8.8680220e-01, 2.4792536e-03],\n",
       "       [8.6958311e-02, 5.5776220e-02, 8.5447103e-01, 2.7944162e-03],\n",
       "       [1.5502419e-02, 3.3474285e-02, 9.5022768e-01, 7.9564919e-04],\n",
       "       [3.2465514e-02, 4.6434678e-02, 9.1966367e-01, 1.4361503e-03],\n",
       "       [4.1637812e-02, 3.5995558e-02, 9.2202687e-01, 3.3973585e-04],\n",
       "       [9.7986721e-03, 2.8186454e-02, 9.6184003e-01, 1.7487805e-04],\n",
       "       [1.0411953e-02, 2.3781091e-02, 9.6549082e-01, 3.1617726e-04],\n",
       "       [1.4473261e-02, 3.3052765e-02, 9.5227742e-01, 1.9654511e-04],\n",
       "       [1.7856143e-02, 1.0482879e-01, 8.7712264e-01, 1.9244273e-04],\n",
       "       [8.9286603e-03, 5.7754446e-02, 9.3306810e-01, 2.4887128e-04],\n",
       "       [2.4910098e-02, 4.2635538e-02, 9.3226033e-01, 1.9407173e-04],\n",
       "       [2.1485548e-02, 5.7118125e-02, 9.2135888e-01, 3.7421814e-05],\n",
       "       [1.6670723e-02, 4.8813831e-02, 9.3446487e-01, 5.0546874e-05],\n",
       "       [2.0403972e-02, 6.5421291e-02, 9.1406196e-01, 1.1272667e-04],\n",
       "       [1.8439578e-02, 5.0408453e-02, 9.3099564e-01, 1.5625596e-04],\n",
       "       [2.4848429e-02, 5.0678901e-02, 9.2414558e-01, 3.2709385e-04],\n",
       "       [2.9297417e-02, 5.8759138e-02, 9.1134328e-01, 6.0014916e-04],\n",
       "       [2.4594728e-02, 5.2554347e-02, 9.2203653e-01, 8.1438327e-04],\n",
       "       [3.1212687e-02, 4.2993437e-02, 9.2449850e-01, 1.2953891e-03],\n",
       "       [2.2282211e-02, 4.0109325e-02, 9.3671793e-01, 8.9053938e-04],\n",
       "       [1.5775595e-02, 3.2075640e-02, 9.5150942e-01, 6.3923298e-04],\n",
       "       [9.2413519e-03, 2.6499124e-02, 9.6372384e-01, 5.3565821e-04],\n",
       "       [1.1440896e-02, 3.4489475e-02, 9.5301819e-01, 1.0514333e-03],\n",
       "       [1.0302141e-02, 3.5326574e-02, 9.5298004e-01, 1.3911665e-03],\n",
       "       [9.3698427e-03, 4.0221043e-02, 9.4853014e-01, 1.8789772e-03],\n",
       "       [5.0029871e-03, 4.7809787e-02, 9.4479245e-01, 2.3947693e-03],\n",
       "       [5.6379810e-03, 6.6990100e-02, 9.2134345e-01, 6.0284454e-03],\n",
       "       [6.8301116e-03, 9.0348996e-02, 8.8978553e-01, 1.3035391e-02],\n",
       "       [3.9201006e-03, 2.0564410e-01, 7.4731392e-01, 4.3121785e-02],\n",
       "       [4.5249597e-03, 2.8750959e-01, 4.6472049e-01, 2.4324492e-01],\n",
       "       [2.7038998e-03, 3.9832750e-01, 3.3947280e-01, 2.5949588e-01],\n",
       "       [8.3773345e-04, 5.0517845e-01, 2.9111397e-01, 2.0286982e-01],\n",
       "       [5.5058883e-04, 5.2254856e-01, 2.6888672e-01, 2.0801412e-01],\n",
       "       [6.8399304e-04, 4.7885036e-01, 2.8466037e-01, 2.3580523e-01],\n",
       "       [8.7632070e-04, 4.3781891e-01, 3.1231520e-01, 2.4898957e-01],\n",
       "       [1.1082808e-03, 3.9600748e-01, 3.3252096e-01, 2.7036327e-01],\n",
       "       [1.1976266e-03, 3.6192450e-01, 3.1705487e-01, 3.1982306e-01],\n",
       "       [1.2568400e-03, 3.1935671e-01, 2.9491201e-01, 3.8447440e-01],\n",
       "       [1.4667540e-03, 2.6770449e-01, 2.8849027e-01, 4.4233844e-01],\n",
       "       [1.7701690e-03, 2.2146687e-01, 2.8842708e-01, 4.8833585e-01],\n",
       "       [2.0516245e-03, 1.9941014e-01, 2.8490588e-01, 5.1363230e-01],\n",
       "       [2.2637073e-03, 1.8266243e-01, 2.8158683e-01, 5.3348702e-01],\n",
       "       [2.3473650e-03, 1.6750076e-01, 2.7452713e-01, 5.5562478e-01],\n",
       "       [2.3985121e-03, 1.5781021e-01, 2.6989168e-01, 5.6989962e-01],\n",
       "       [2.5206674e-03, 1.4971313e-01, 2.7057710e-01, 5.7718909e-01],\n",
       "       [2.6419947e-03, 1.4416987e-01, 2.7176589e-01, 5.8142221e-01],\n",
       "       [2.6641777e-03, 1.4319462e-01, 2.7039397e-01, 5.8374721e-01],\n",
       "       [2.5623308e-03, 1.4741714e-01, 2.6706475e-01, 5.8295578e-01],\n",
       "       [2.5021019e-03, 1.5063307e-01, 2.6826078e-01, 5.7860404e-01],\n",
       "       [2.5273378e-03, 1.5011407e-01, 2.7462521e-01, 5.7273346e-01],\n",
       "       [2.6001167e-03, 1.4733364e-01, 2.8213960e-01, 5.6792665e-01],\n",
       "       [2.6215750e-03, 1.4782444e-01, 2.8378391e-01, 5.6577015e-01],\n",
       "       [2.5883159e-03, 1.5613087e-01, 2.8172657e-01, 5.5955422e-01],\n",
       "       [2.6580738e-03, 1.6633107e-01, 2.7990127e-01, 5.5110961e-01],\n",
       "       [2.8402784e-03, 1.7493559e-01, 2.8110477e-01, 5.4111934e-01],\n",
       "       [3.0388772e-03, 1.8524902e-01, 2.8227970e-01, 5.2943242e-01],\n",
       "       [3.5661075e-03, 2.0019159e-01, 2.7643490e-01, 5.1980740e-01],\n",
       "       [3.9813737e-03, 2.1386150e-01, 2.6751074e-01, 5.1464641e-01],\n",
       "       [4.4012070e-03, 2.2904463e-01, 2.6039580e-01, 5.0615841e-01],\n",
       "       [5.2160067e-03, 2.4518532e-01, 2.4852619e-01, 5.0107253e-01],\n",
       "       [7.6180231e-03, 2.4522154e-01, 2.4801874e-01, 4.9914169e-01],\n",
       "       [1.0982014e-02, 2.1799186e-01, 2.2763266e-01, 5.4339349e-01],\n",
       "       [1.6850576e-02, 1.8730164e-01, 1.9771959e-01, 5.9812826e-01],\n",
       "       [1.1350897e-02, 1.6716726e-01, 1.4301918e-01, 6.7846274e-01]],\n",
       "      dtype=float32)"
      ]
     },
     "execution_count": 9,
     "metadata": {},
     "output_type": "execute_result"
    }
   ],
   "source": [
    "#probs[-1]"
   ]
  },
  {
   "cell_type": "code",
   "execution_count": 58,
   "metadata": {},
   "outputs": [],
   "source": [
    "def class_full_name(cname):\n",
    "    if cname == 'A':\n",
    "        return 'Atrial Fibrillation'\n",
    "    elif cname == 'N':\n",
    "        return 'Normal Sinus Rythym'\n",
    "    elif cname == 'O':\n",
    "        return 'Other Rythym'\n",
    "    elif cname == '~':\n",
    "        return 'Noise'\n",
    "\n",
    "\n",
    "def stats(ground_truth, preds):\n",
    "    labels = range(ground_truth.shape[2])\n",
    "    g = np.argmax(ground_truth, axis=2).ravel()\n",
    "    p = np.argmax(preds, axis=2).ravel()\n",
    "    stat_dict = {}\n",
    "    for i in labels:\n",
    "        tp = np.sum(g[g==i] == p[g==i])\n",
    "        fp = np.sum(g[p==i] != p[p==i])\n",
    "        fn = np.sum(g==i) - tp\n",
    "        tn = np.sum(g!=i) - fp\n",
    "        stat_dict[i] = (tp, fp, fn, tn)\n",
    "    return stat_dict\n",
    "\n",
    "\n",
    "def to_set(preds):\n",
    "    idxs = np.argmax(preds, axis=2)\n",
    "    return [list(set(r)) for r in idxs]\n",
    "\n",
    "\n",
    "def set_stats(ground_truth, preds):\n",
    "    labels = range(ground_truth.shape[2])\n",
    "    ground_truth = to_set(ground_truth)\n",
    "    preds = to_set(preds)\n",
    "    stat_dict = {}\n",
    "    for x in labels:\n",
    "        tp = 0; fp = 0; fn = 0; tn = 0;\n",
    "        for g, p in zip(ground_truth, preds):\n",
    "            if x in g and x in p:\n",
    "                tp += 1\n",
    "            elif x not in g and x in p:\n",
    "                fp +=1\n",
    "            elif x in g and x not in p:\n",
    "                fn += 1\n",
    "            elif x not in g and x not in p:\n",
    "                tn += 1\n",
    "        stat_dict[x] = (tp, fp, fn, tn)\n",
    "    return stat_dict\n",
    "\n",
    "\n",
    "def compute_f1(tp, fp, fn, tn):\n",
    "    precision = tp / float(tp + fp)\n",
    "    recall = tp / float(tp + fn)\n",
    "    specificity = tn / float(tn + fp)\n",
    "    npv = tn / float(tn + fn)\n",
    "    f1 = 2 * precision * recall / (precision + recall)\n",
    "    return f1, tp + fn\n",
    "\n",
    "\n",
    "def print_results(seq_stat, set_stat):\n",
    "    print('\\t\\t Seq F1    Set F1')\n",
    "    seq_tf1 = 0; seq_tot = 0\n",
    "    set_tf1 = 0; set_tot = 0\n",
    "    \n",
    "    for k, v in seq_stat.items():\n",
    "        set_f1, n = compute_f1(*set_stat[k])\n",
    "        set_tf1 += n * set_f1\n",
    "        set_tot += n\n",
    "        seq_f1, n = compute_f1(*v)\n",
    "        seq_tf1 += n * seq_f1\n",
    "        seq_tot += n\n",
    "        print ('{:<16} {:10.3f} {:10.3f}'.format(\n",
    "            class_full_name(preprocessor.classes[k]), seq_f1, set_f1))\n",
    "    print ('{:<16} {:10.3f} {:10.3f}'.format(\n",
    "        \"Average\", seq_tf1 / float(seq_tot), set_tf1 / float(set_tot)))\n",
    "    \n",
    "    \n",
    "def c_statistic_with_95p_confidence_interval(cstat, num_positives, num_negatives, z_alpha_2=1.96):\n",
    "    \"\"\"\n",
    "    Calculates the confidence interval of an ROC curve (c-statistic), using the method described\n",
    "    under \"Confidence Interval for AUC\" here:\n",
    "      https://ncss-wpengine.netdna-ssl.com/wp-content/themes/ncss/pdf/Procedures/PASS/Confidence_Intervals_for_the_Area_Under_an_ROC_Curve.pdf\n",
    "    Args:\n",
    "        cstat: the c-statistic (equivalent to area under the ROC curve)\n",
    "        num_positives: number of positive examples in the set.\n",
    "        num_negatives: number of negative examples in the set.\n",
    "        z_alpha_2 (optional): the critical value for an N% confidence interval, e.g., 1.96 for 95%,\n",
    "            2.326 for 98%, 2.576 for 99%, etc.\n",
    "    Returns:\n",
    "        The 95% confidence interval half-width, e.g., the Y in X ± Y.\n",
    "    \"\"\"\n",
    "    q1 = cstat / (2 - cstat)\n",
    "    q2 = 2 * cstat**2 / (1 + cstat)\n",
    "    numerator = cstat * (1 - cstat) \\\n",
    "        + (num_positives - 1) * (q1 - cstat**2) \\\n",
    "        + (num_negatives - 1) * (q2 - cstat**2)\n",
    "    standard_error_auc = math.sqrt(numerator / (num_positives * num_negatives))\n",
    "    return z_alpha_2 * standard_error_auc\n",
    "\n",
    "\n",
    "def roc_auc(ground_truth, probs, index):\n",
    "    gts = np.argmax(ground_truth, axis=2)\n",
    "    \n",
    "    n_gts = np.zeros_like(gts)\n",
    "    n_gts[gts==index] = 1\n",
    "    num_pos = np.sum(n_gts == 1)\n",
    "    num_neg = n_gts.size - num_pos\n",
    "    \n",
    "    n_probs = probs[..., index].squeeze()\n",
    "    \n",
    "    n_gts, n_probs = n_gts.ravel(), n_probs.ravel()\n",
    "    \n",
    "    return num_pos, num_neg, roc_auc_score(n_gts, n_probs)\n",
    "    \n",
    "    \n",
    "def roc_auc_set(ground_truth, probs, index):\n",
    "    gts = np.argmax(ground_truth, axis=2)\n",
    "    max_probs = np.max(probs[..., index], axis=1)\n",
    "    max_gts = np.any(gts==index, axis=1)\n",
    "    pos = np.sum(max_gts)\n",
    "    neg = max_gts.size - pos\n",
    "    return pos, neg, roc_auc_score(max_gts, max_probs)\n",
    "\n",
    "\n",
    "def print_aucs(ground_truth, probs):\n",
    "    seq_tauc = 0.0; seq_tot = 0.0\n",
    "    set_tauc = 0.0; set_tot = 0.0\n",
    "    print ('\\t\\t\\t        AUC')\n",
    "    for idx, cname in preprocessor.int_to_class.items():\n",
    "        cname = class_full_name(cname)\n",
    "        pos, neg, seq_auc = roc_auc(ground_truth, probs, idx)\n",
    "        seq_tot += pos\n",
    "        seq_tauc += pos * seq_auc\n",
    "        seq_conf = c_statistic_with_95p_confidence_interval(seq_auc, pos, neg)\n",
    "        pos, neg, set_auc = roc_auc_set(ground_truth, probs, idx)\n",
    "        set_tot += pos\n",
    "        set_tauc += pos * set_auc\n",
    "        set_conf = c_statistic_with_95p_confidence_interval(set_auc, pos, neg)\n",
    "        print (\"{: <16}\\t{:.3f} ({:.3f}-{:.3f})\\t{:.3f} ({:.3f}-{:.3f})\".format(\n",
    "            cname, seq_auc, seq_auc-seq_conf,seq_auc+seq_conf,\n",
    "            set_auc, set_auc-set_conf, set_auc+set_conf))\n",
    "    print ('Average\\t\\t\\t{:.3f}\\t\\t\\t{:.3f}'.format(seq_tauc/seq_tot, set_tauc/set_tot))"
   ]
  },
  {
   "cell_type": "code",
   "execution_count": 59,
   "metadata": {},
   "outputs": [
    {
     "name": "stdout",
     "output_type": "stream",
     "text": [
      "\t\t Seq F1    Set F1\n",
      "Atrial Fibrillation      0.741      0.764\n",
      "Normal Sinus Rythym      0.789      0.853\n",
      "Other Rythym          0.600      0.515\n",
      "Noise                 0.863      0.994\n",
      "Average               0.795      0.869\n",
      "\n",
      "\n",
      "\t\t\t        AUC\n",
      "Atrial Fibrillation\t0.986 (0.983-0.989)\t0.981 (0.959-1.003\n",
      "Normal Sinus Rythym\t0.928 (0.925-0.930)\t0.891 (0.869-0.912\n",
      "Other Rythym    \t0.864 (0.859-0.869)\t0.875 (0.844-0.905\n",
      "Noise           \t0.986 (0.985-0.987)\t0.999 (0.998-1.001\n",
      "Average\t\t\t0.949\t\t\t0.945\n"
     ]
    }
   ],
   "source": [
    "print_results(stats(labels, probs), set_stats(labels, probs))\n",
    "print('\\n')\n",
    "print_aucs(labels, probs)"
   ]
  },
  {
   "cell_type": "code",
   "execution_count": null,
   "metadata": {},
   "outputs": [],
   "source": []
  }
 ],
 "metadata": {
  "kernelspec": {
   "display_name": "Python 3.7 (tensorflow)",
   "language": "python",
   "name": "tensorflow"
  },
  "language_info": {
   "codemirror_mode": {
    "name": "ipython",
    "version": 3
   },
   "file_extension": ".py",
   "mimetype": "text/x-python",
   "name": "python",
   "nbconvert_exporter": "python",
   "pygments_lexer": "ipython3",
   "version": "3.7.7"
  }
 },
 "nbformat": 4,
 "nbformat_minor": 4
}
