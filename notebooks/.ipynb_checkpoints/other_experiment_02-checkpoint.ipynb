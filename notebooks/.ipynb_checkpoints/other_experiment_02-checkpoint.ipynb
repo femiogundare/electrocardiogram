{
 "cells": [
  {
   "cell_type": "markdown",
   "metadata": {},
   "source": [
    "### Experiment with sequence-level and set-level predictions"
   ]
  },
  {
   "cell_type": "markdown",
   "metadata": {},
   "source": [
    "Sequence-level consists of one rhythm class per interval. Set-level consists of the group of unique diagnoses present in the record."
   ]
  },
  {
   "cell_type": "code",
   "execution_count": 1,
   "metadata": {},
   "outputs": [],
   "source": [
    "import os\n",
    "import sys\n",
    "import math\n",
    "import json\n",
    "import numpy as np\n",
    "import matplotlib\n",
    "from matplotlib import pyplot as plt\n",
    "import sklearn\n",
    "from sklearn.metrics import roc_auc_score, confusion_matrix\n",
    "import tensorflow as tf\n",
    "from tensorflow import keras\n",
    "from tensorflow.compat.v1.keras.backend import set_session\n",
    "sys.path.append('C:\\\\Users\\\\Dell\\\\Desktop\\\\CV Projects\\\\ecg')\n",
    "\n",
    "import load\n",
    "import network\n",
    "import utilities"
   ]
  },
  {
   "cell_type": "code",
   "execution_count": 2,
   "metadata": {},
   "outputs": [],
   "source": [
    "base_dir = 'C:\\\\Users\\\\Dell\\\\Desktop\\\\CV Projects\\\\ecg'"
   ]
  },
  {
   "cell_type": "code",
   "execution_count": 3,
   "metadata": {},
   "outputs": [],
   "source": [
    "model_path = os.path.join(base_dir, 'saved/ecg_experiment_01/090607/0.534-0.954-011-0.430-0.966.hdf5')\n",
    "data_json = os.path.join(base_dir, 'data/test.json')\n",
    "config_file = os.path.join(base_dir, 'config.json')"
   ]
  },
  {
   "cell_type": "code",
   "execution_count": 4,
   "metadata": {},
   "outputs": [
    {
     "name": "stderr",
     "output_type": "stream",
     "text": [
      "100%|████████████████████████████████████████████████████████████████████████████████| 852/852 [00:18<00:00, 45.00it/s]\n"
     ]
    }
   ],
   "source": [
    "preprocessor = utilities.load(os.path.dirname(model_path))\n",
    "dataset = load.load_dataset(data_json)\n",
    "ecgs, committee_labels = preprocessor.process(*dataset)"
   ]
  },
  {
   "cell_type": "code",
   "execution_count": 5,
   "metadata": {},
   "outputs": [],
   "source": [
    "params = json.load(open(config_file, 'r'))"
   ]
  },
  {
   "cell_type": "code",
   "execution_count": 6,
   "metadata": {},
   "outputs": [],
   "source": [
    "params.update({\n",
    "        'input_shape' : [None, 1],\n",
    "        'num_categories' : len(preprocessor.classes)\n",
    "    })"
   ]
  },
  {
   "cell_type": "code",
   "execution_count": 7,
   "metadata": {},
   "outputs": [],
   "source": [
    "model = network.build_network(**params)\n",
    "model.load_weights(model_path)"
   ]
  },
  {
   "cell_type": "code",
   "execution_count": 8,
   "metadata": {},
   "outputs": [
    {
     "data": {
      "text/plain": [
       "(852, 71, 4)"
      ]
     },
     "execution_count": 8,
     "metadata": {},
     "output_type": "execute_result"
    }
   ],
   "source": [
    "probs = model.predict(ecgs, verbose=0)\n",
    "probs.shape"
   ]
  },
  {
   "cell_type": "code",
   "execution_count": 9,
   "metadata": {},
   "outputs": [],
   "source": [
    "def stats(ground_truth, preds):\n",
    "    labels = range(ground_truth.shape[2])\n",
    "    g = np.argmax(ground_truth, axis=2).ravel()\n",
    "    p = np.argmax(preds, axis=2).ravel()\n",
    "    stat_dict = {}\n",
    "    for i in labels:\n",
    "        tp = np.sum(g[g==i] == p[g==i])\n",
    "        fp = np.sum(g[p==i] != p[p==i])\n",
    "        fn = np.sum(g==i) - tp\n",
    "        tn = np.sum(g!=i) - fp\n",
    "        stat_dict[i] = (tp, fp, fn, tn)\n",
    "    return stat_dict\n",
    "\n",
    "\n",
    "def to_set(preds):\n",
    "    idxs = np.argmax(preds, axis=2)\n",
    "    return [list(set(r)) for r in idxs]\n",
    "\n",
    "\n",
    "def set_stats(ground_truth, preds):\n",
    "    labels = range(ground_truth.shape[2])\n",
    "    ground_truth = to_set(ground_truth)\n",
    "    preds = to_set(preds)\n",
    "    stat_dict = {}\n",
    "    for x in labels:\n",
    "        tp = 0; fp = 0; fn = 0; tn = 0;\n",
    "        for g, p in zip(ground_truth, preds):\n",
    "            if x in g and x in p:\n",
    "                tp += 1\n",
    "            elif x not in g and x in p:\n",
    "                fp +=1\n",
    "            elif x in g and x not in p:\n",
    "                fn += 1\n",
    "            elif x not in g and x not in p:\n",
    "                tn += 1\n",
    "        stat_dict[x] = (tp, fp, fn, tn)\n",
    "    return stat_dict\n",
    "\n",
    "\n",
    "def binarized_helper(p, g):\n",
    "    # compute all the stats for each label\n",
    "    tp = np.sum(p[g==1] == g[g==1])\n",
    "    fp = np.sum(p[p==1] != g[p==1])\n",
    "    fn = np.sum(g) - tp\n",
    "    tn = np.sum(g==0) - fp\n",
    "    return (tp, fp, fn, tn)\n",
    "\n",
    "\n",
    "def binarized_stats(ground_truth, probs, thresh=0.5):\n",
    "    labels = range(ground_truth.shape[2])\n",
    "    stat_dict = {}\n",
    "    for i in labels:\n",
    "        g = ground_truth[..., i].ravel()\n",
    "        p = (probs[..., i] > thresh).ravel()\n",
    "        stat_dict[i] = binarized_helper(p, g)\n",
    "    return stat_dict\n",
    "\n",
    "\n",
    "# Compute sensitivity at given specificity\n",
    "def binarized_stats_at_spec(ground_truth, probs, specs):\n",
    "    stat_dict = {}\n",
    "    for i, min_spec in enumerate(specs):\n",
    "        g = ground_truth[..., i].ravel()\n",
    "\n",
    "        ranges = [0, 1]\n",
    "        thresh = 0.5\n",
    "\n",
    "        for _ in range(1000):\n",
    "            p = (probs[..., i] > thresh).ravel()\n",
    "            tp, fp, fn, tn = binarized_helper(p, g)            \n",
    "            spec = tn / float(tn + fp)\n",
    "            if spec >= min_spec:\n",
    "                ranges[1] = thresh\n",
    "                thresh = (thresh + ranges[0]) / 2.0\n",
    "            elif spec < min_spec:\n",
    "                ranges[0] = thresh\n",
    "                thresh = (ranges[1] + thresh) / 2.0\n",
    "        stat_dict[i] = (tp, fp, fn, tn)\n",
    "    return stat_dict\n",
    "\n",
    "\n",
    "# Compute specificity at given sensitivity\n",
    "def binarized_stats_at_sens(ground_truth, probs, senses):\n",
    "    stat_dict = {}\n",
    "    for i, min_sens in enumerate(senses):\n",
    "        #g = np.any(ground_truth[..., i], axis=1).ravel()\n",
    "        g = ground_truth[..., i].ravel()\n",
    "\n",
    "        ranges = [0, 1]\n",
    "        thresh = 0.5\n",
    "\n",
    "        for _ in range(1000):\n",
    "            #p = np.any(probs[..., i] > thresh, axis=1).ravel()\n",
    "            p = (probs[..., i] > thresh).ravel()\n",
    "            tp, fp, fn, tn = binarized_helper(p, g)            \n",
    "            sens = tp / float(tp + fn)\n",
    "            if sens < min_sens:\n",
    "                ranges[1] = thresh\n",
    "                thresh = (thresh + ranges[0]) / 2.0\n",
    "            elif sens > min_sens:\n",
    "                ranges[0] = thresh\n",
    "                thresh = (ranges[1] + thresh) / 2.0\n",
    "        stat_dict[i] = (tp, fp, fn, tn)\n",
    "    return stat_dict\n",
    "\n",
    "\n",
    "def print_results(sd):\n",
    "    print('\\t\\tPrecision  Recall     Specificity     NPV        F1')\n",
    "    tf1 = 0; tot = 0\n",
    "    for k, v in sd.items():\n",
    "        tp, fp, fn, tn = v\n",
    "        precision = tp / float(tp + fp)\n",
    "        recall = tp / float(tp + fn)\n",
    "        specificity = tn / float(tn + fp)\n",
    "        npv = tn / float(tn + fn)\n",
    "        f1 = 2 * precision * recall / (precision + recall)\n",
    "        tf1 += (tp + fn) * f1\n",
    "        tot += (tp + fn)\n",
    "        print('{:>10} {:10.3f} {:10.3f} {:10.3f} {:15.3f} {:10.3f}'.format(\n",
    "            preprocessor.classes[k], precision, recall, specificity, npv, f1))\n",
    "    print('Average F1 {:.3f}'.format(tf1 / float(tot)))"
   ]
  },
  {
   "cell_type": "markdown",
   "metadata": {},
   "source": [
    "### Sequence level results for the Model"
   ]
  },
  {
   "cell_type": "code",
   "execution_count": 10,
   "metadata": {},
   "outputs": [
    {
     "name": "stdout",
     "output_type": "stream",
     "text": [
      "\t\tPrecision  Recall     Specificity     NPV        F1\n",
      "         A      0.682      0.660      0.987           0.986      0.671\n",
      "         N      0.761      0.801      0.877           0.900      0.781\n",
      "         O      0.467      0.700      0.848           0.937      0.560\n",
      "         ~      0.978      0.780      0.985           0.834      0.868\n",
      "Average F1 0.782\n"
     ]
    }
   ],
   "source": [
    "print_results(stats(committee_labels, probs))"
   ]
  },
  {
   "cell_type": "markdown",
   "metadata": {},
   "source": [
    "### Set level results for the Model"
   ]
  },
  {
   "cell_type": "code",
   "execution_count": 11,
   "metadata": {},
   "outputs": [
    {
     "name": "stdout",
     "output_type": "stream",
     "text": [
      "\t\tPrecision  Recall     Specificity     NPV        F1\n",
      "         A      0.612      0.825      0.958           0.986      0.703\n",
      "         N      0.798      0.952      0.618           0.891      0.868\n",
      "         O      0.372      0.926      0.372           0.926      0.531\n",
      "         ~      1.000      0.892      1.000           0.011      0.943\n",
      "Average F1 0.851\n"
     ]
    }
   ],
   "source": [
    "print_results(set_stats(committee_labels, probs))"
   ]
  },
  {
   "cell_type": "markdown",
   "metadata": {},
   "source": [
    "### The \"Binarized\" Sensitivity and Specificity (Sequence Level)"
   ]
  },
  {
   "cell_type": "code",
   "execution_count": 12,
   "metadata": {},
   "outputs": [
    {
     "name": "stdout",
     "output_type": "stream",
     "text": [
      "\t\tPrecision  Recall     Specificity     NPV        F1\n",
      "         A      0.685      0.620      0.988           0.984      0.651\n",
      "         N      0.825      0.791      0.918           0.900      0.808\n",
      "         O      0.539      0.676      0.890           0.935      0.600\n",
      "         ~      0.984      0.669      0.990           0.771      0.797\n",
      "Average F1 0.763\n"
     ]
    }
   ],
   "source": [
    "print_results(binarized_stats(committee_labels, probs, thresh=0.5))"
   ]
  },
  {
   "cell_type": "markdown",
   "metadata": {},
   "source": [
    "### Compute max sensitivity at given specificity and vice versa"
   ]
  },
  {
   "cell_type": "code",
   "execution_count": 13,
   "metadata": {},
   "outputs": [
    {
     "name": "stdout",
     "output_type": "stream",
     "text": [
      "Sensitivity at 0.9 specificity.\n",
      "\t\tPrecision  Recall     Specificity     NPV        F1\n",
      "         A      0.290      0.974      0.900           0.999      0.446\n",
      "         N      0.800      0.821      0.899           0.911      0.811\n",
      "         O      0.556      0.663      0.899           0.934      0.605\n",
      "         ~      0.898      0.996      0.900           0.996      0.945\n",
      "Average F1 0.826\n",
      "\n",
      "\n",
      "Specificity at 0.9 sensitivity.\n",
      "\t\tPrecision  Recall     Specificity     NPV        F1\n",
      "         A      0.560      0.899      0.970           0.996      0.690\n",
      "         N      0.709      0.899      0.819           0.943      0.793\n",
      "         O      0.178      0.899      0.210           0.917      0.297\n",
      "         ~      0.957      0.899      0.964           0.915      0.928\n",
      "Average F1 0.773\n"
     ]
    }
   ],
   "source": [
    "print('Sensitivity at 0.9 specificity.')\n",
    "print_results(binarized_stats_at_spec(\n",
    "    committee_labels, probs, specs=[0.8995]*len(preprocessor.classes)))\n",
    "print('\\n')\n",
    "print('Specificity at 0.9 sensitivity.')\n",
    "print_results(binarized_stats_at_sens(\n",
    "    committee_labels, probs, senses=[0.8995]*len(preprocessor.classes)))"
   ]
  },
  {
   "cell_type": "markdown",
   "metadata": {},
   "source": [
    "## AUC Scores"
   ]
  },
  {
   "cell_type": "code",
   "execution_count": 14,
   "metadata": {},
   "outputs": [],
   "source": [
    "def c_statistic_with_95p_confidence_interval(cstat, num_positives, num_negatives, z_alpha_2=1.96):\n",
    "    \"\"\"\n",
    "    Calculates the confidence interval of an ROC curve (c-statistic), using the method described\n",
    "    under \"Confidence Interval for AUC\" here:\n",
    "      https://ncss-wpengine.netdna-ssl.com/wp-content/themes/ncss/pdf/Procedures/PASS/Confidence_Intervals_for_the_Area_Under_an_ROC_Curve.pdf\n",
    "    Args:\n",
    "        cstat: the c-statistic (equivalent to area under the ROC curve)\n",
    "        num_positives: number of positive examples in the set.\n",
    "        num_negatives: number of negative examples in the set.\n",
    "        z_alpha_2 (optional): the critical value for an N% confidence interval, e.g., 1.96 for 95%,\n",
    "            2.326 for 98%, 2.576 for 99%, etc.\n",
    "    Returns:\n",
    "        The 95% confidence interval half-width, e.g., the Y in X ± Y.\n",
    "    \"\"\"\n",
    "    q1 = cstat / (2 - cstat)\n",
    "    q2 = 2 * cstat**2 / (1 + cstat)\n",
    "    numerator = cstat * (1 - cstat) \\\n",
    "        + (num_positives - 1) * (q1 - cstat**2) \\\n",
    "        + (num_negatives - 1) * (q2 - cstat**2)\n",
    "    standard_error_auc = math.sqrt(numerator / (num_positives * num_negatives))\n",
    "    return z_alpha_2 * standard_error_auc\n",
    "\n",
    "\n",
    "def roc_auc(ground_truth, probs, index):\n",
    "    gts = np.argmax(ground_truth, axis=2)\n",
    "    \n",
    "    n_gts = np.zeros_like(gts)\n",
    "    n_gts[gts==index] = 1\n",
    "    num_pos = np.sum(n_gts == 1)\n",
    "    num_neg = n_gts.size - num_pos\n",
    "    \n",
    "    n_probs = probs[..., index].squeeze()\n",
    "    \n",
    "    n_gts, n_probs = n_gts.ravel(), n_probs.ravel()\n",
    "    \n",
    "    return num_pos, num_neg, roc_auc_score(n_gts, n_probs)\n",
    "    \n",
    "    \n",
    "def roc_auc_set(ground_truth, probs, index):\n",
    "    gts = np.argmax(ground_truth, axis=2)\n",
    "    max_probs = np.max(probs[..., index], axis=1)\n",
    "    max_gts = np.any(gts==index, axis=1)\n",
    "    pos = np.sum(max_gts)\n",
    "    neg = max_gts.size - pos\n",
    "    return pos, neg, roc_auc_score(max_gts, max_probs)\n",
    "\n",
    "\n",
    "def print_aucs(auc_fn, ground_truth, probs):\n",
    "    macro_average = 0.0; total = 0.0\n",
    "    print ('\\t        AUC')\n",
    "    for idx, cname in preprocessor.int_to_class.items():\n",
    "        pos, neg, auc = auc_fn(ground_truth, probs, idx)\n",
    "        total += pos\n",
    "        macro_average += pos * auc\n",
    "        conf = c_statistic_with_95p_confidence_interval(auc, pos, neg)\n",
    "        print('{: <8}\\t{:.3f} ({:.3f}-{:.3f})'.format(cname, auc, auc-conf,auc+conf))\n",
    "    print('Average\\t\\t{:.3f}'.format(macro_average / total))"
   ]
  },
  {
   "cell_type": "code",
   "execution_count": 15,
   "metadata": {},
   "outputs": [
    {
     "name": "stdout",
     "output_type": "stream",
     "text": [
      "Sequence level AUC\n",
      "\t        AUC\n",
      "A       \t0.980 (0.976-0.984)\n",
      "N       \t0.914 (0.912-0.917)\n",
      "O       \t0.815 (0.810-0.821)\n",
      "~       \t0.985 (0.984-0.986)\n",
      "Average\t\t0.935\n"
     ]
    }
   ],
   "source": [
    "print('Sequence level AUC')\n",
    "print_aucs(roc_auc, committee_labels, probs)"
   ]
  },
  {
   "cell_type": "code",
   "execution_count": 16,
   "metadata": {},
   "outputs": [
    {
     "name": "stdout",
     "output_type": "stream",
     "text": [
      "Set level AUC\n",
      "\t        AUC\n",
      "A       \t0.976 (0.949-1.002)\n",
      "N       \t0.887 (0.865-0.908)\n",
      "O       \t0.845 (0.813-0.878)\n",
      "~       \t0.893 (0.704-1.082)\n",
      "Average\t\t0.887\n"
     ]
    }
   ],
   "source": [
    "print('Set level AUC')\n",
    "print_aucs(roc_auc_set, committee_labels, probs)"
   ]
  },
  {
   "cell_type": "code",
   "execution_count": 17,
   "metadata": {},
   "outputs": [],
   "source": [
    "def plot_confusions(cm, xlabel):\n",
    "    cm = sklearn.preprocessing.normalize(cm, norm='l1', axis=1, copy=True)\n",
    "    classes = preprocessor.classes\n",
    "    classes = [cname for cname in preprocessor.classes]\n",
    "    matplotlib.rcParams['figure.figsize'] = (8, 7)\n",
    "    plt.pcolor(np.flipud(cm), cmap=\"Blues\")\n",
    "    cbar = plt.colorbar()\n",
    "    cbar.ax.tick_params(labelsize=16) \n",
    "    tick_marks = np.arange(len(classes))\n",
    "    plt.xticks(tick_marks + .5, classes, rotation=90, fontsize=16)\n",
    "    plt.yticks(tick_marks + .5, reversed(classes), fontsize=16)\n",
    "    plt.clim(0, 1)\n",
    "    plt.ylabel(\"Committee consensus label\", fontsize=16)\n",
    "    plt.xlabel(xlabel, fontsize=16)\n",
    "    plt.tight_layout()"
   ]
  },
  {
   "cell_type": "code",
   "execution_count": 18,
   "metadata": {},
   "outputs": [
    {
     "data": {
      "image/png": "[encoded data removed]",
      "text/plain": [
       "<Figure size 576x504 with 2 Axes>"
      ]
     },
     "metadata": {
      "needs_background": "light"
     },
     "output_type": "display_data"
    }
   ],
   "source": [
    "cm = confusion_matrix(np.argmax(committee_labels, axis=2).ravel(),\n",
    "                      np.argmax(probs, axis=2).ravel())\n",
    "\n",
    "plot_confusions(cm, \"DNN predicted label\")"
   ]
  },
  {
   "cell_type": "code",
   "execution_count": null,
   "metadata": {},
   "outputs": [],
   "source": []
  }
 ],
 "metadata": {
  "kernelspec": {
   "display_name": "Python 3.7 (tensorflow)",
   "language": "python",
   "name": "tensorflow"
  },
  "language_info": {
   "codemirror_mode": {
    "name": "ipython",
    "version": 3
   },
   "file_extension": ".py",
   "mimetype": "text/x-python",
   "name": "python",
   "nbconvert_exporter": "python",
   "pygments_lexer": "ipython3",
   "version": "3.7.7"
  }
 },
 "nbformat": 4,
 "nbformat_minor": 4
}
