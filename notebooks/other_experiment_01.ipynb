{
 "cells": [
  {
   "cell_type": "markdown",
   "metadata": {},
   "source": [
    "### Experiment with sequence-level and set-level predictions"
   ]
  },
  {
   "cell_type": "markdown",
   "metadata": {},
   "source": [
    "Sequence-level consists of one rhythm class per interval. Set-level consists of the group of unique diagnoses present in the record."
   ]
  },
  {
   "cell_type": "code",
   "execution_count": 1,
   "metadata": {},
   "outputs": [],
   "source": [
    "import os\n",
    "import sys\n",
    "import math\n",
    "import json\n",
    "import numpy as np\n",
    "from sklearn.metrics import roc_auc_score\n",
    "from tensorflow import keras\n",
    "sys.path.append('C:\\\\Users\\\\Dell\\\\Desktop\\\\CV Projects\\\\ecg')\n",
    "\n",
    "import load\n",
    "import network\n",
    "import utilities"
   ]
  },
  {
   "cell_type": "code",
   "execution_count": 2,
   "metadata": {},
   "outputs": [],
   "source": [
    "base_dir = 'C:\\\\Users\\\\Dell\\\\Desktop\\\\CV Projects\\\\ecg'"
   ]
  },
  {
   "cell_type": "code",
   "execution_count": 3,
   "metadata": {},
   "outputs": [],
   "source": [
    "model_path = os.path.join(base_dir, 'saved/ecg_experiment_01/090607/0.534-0.954-011-0.430-0.966.hdf5')\n",
    "data_json = os.path.join(base_dir, 'data/val.json')\n",
    "config_file = os.path.join(base_dir, 'config.json')"
   ]
  },
  {
   "cell_type": "code",
   "execution_count": 4,
   "metadata": {},
   "outputs": [
    {
     "name": "stderr",
     "output_type": "stream",
     "text": [
      "100%|████████████████████████████████████████████████████████████████████████████████| 852/852 [00:22<00:00, 37.70it/s]\n"
     ]
    }
   ],
   "source": [
    "preprocessor = utilities.load(os.path.dirname(model_path))\n",
    "dataset = load.load_dataset(data_json)\n",
    "ecgs, labels = preprocessor.process(*dataset)"
   ]
  },
  {
   "cell_type": "code",
   "execution_count": 5,
   "metadata": {},
   "outputs": [],
   "source": [
    "params = json.load(open(config_file, 'r'))"
   ]
  },
  {
   "cell_type": "code",
   "execution_count": 6,
   "metadata": {},
   "outputs": [],
   "source": [
    "params.update({\n",
    "        'input_shape' : [None, 1],\n",
    "        'num_categories' : len(preprocessor.classes)\n",
    "    })"
   ]
  },
  {
   "cell_type": "code",
   "execution_count": 7,
   "metadata": {},
   "outputs": [],
   "source": [
    "model = network.build_network(**params)\n",
    "model.load_weights(model_path)"
   ]
  },
  {
   "cell_type": "code",
   "execution_count": 8,
   "metadata": {},
   "outputs": [
    {
     "data": {
      "text/plain": [
       "(852, 70, 4)"
      ]
     },
     "execution_count": 8,
     "metadata": {},
     "output_type": "execute_result"
    }
   ],
   "source": [
    "probs = model.predict(ecgs, verbose=0)\n",
    "probs.shape"
   ]
  },
  {
   "cell_type": "code",
   "execution_count": 9,
   "metadata": {},
   "outputs": [],
   "source": [
    "#probs[-1]"
   ]
  },
  {
   "cell_type": "code",
   "execution_count": 10,
   "metadata": {},
   "outputs": [],
   "source": [
    "def stats(ground_truth, preds):\n",
    "    labels = range(ground_truth.shape[2])\n",
    "    g = np.argmax(ground_truth, axis=2).ravel()\n",
    "    p = np.argmax(preds, axis=2).ravel()\n",
    "    stat_dict = {}\n",
    "    for i in labels:\n",
    "        tp = np.sum(g[g==i] == p[g==i])\n",
    "        fp = np.sum(g[p==i] != p[p==i])\n",
    "        fn = np.sum(g==i) - tp\n",
    "        tn = np.sum(g!=i) - fp\n",
    "        stat_dict[i] = (tp, fp, fn, tn)\n",
    "    return stat_dict\n",
    "\n",
    "\n",
    "def to_set(preds):\n",
    "    idxs = np.argmax(preds, axis=2)\n",
    "    return [list(set(r)) for r in idxs]\n",
    "\n",
    "\n",
    "def set_stats(ground_truth, preds):\n",
    "    labels = range(ground_truth.shape[2])\n",
    "    ground_truth = to_set(ground_truth)\n",
    "    preds = to_set(preds)\n",
    "    stat_dict = {}\n",
    "    for x in labels:\n",
    "        tp = 0; fp = 0; fn = 0; tn = 0;\n",
    "        for g, p in zip(ground_truth, preds):\n",
    "            if x in g and x in p:\n",
    "                tp += 1\n",
    "            elif x not in g and x in p:\n",
    "                fp +=1\n",
    "            elif x in g and x not in p:\n",
    "                fn += 1\n",
    "            elif x not in g and x not in p:\n",
    "                tn += 1\n",
    "        stat_dict[x] = (tp, fp, fn, tn)\n",
    "    return stat_dict\n",
    "\n",
    "\n",
    "def compute_f1(tp, fp, fn, tn):\n",
    "    precision = tp / float(tp + fp)\n",
    "    recall = tp / float(tp + fn)\n",
    "    specificity = tn / float(tn + fp)\n",
    "    npv = tn / float(tn + fn)\n",
    "    f1 = 2 * precision * recall / (precision + recall)\n",
    "    return f1, tp + fn\n",
    "\n",
    "\n",
    "def print_results(seq_stat, set_stat):\n",
    "    print('\\t\\t Seq F1    Set F1')\n",
    "    seq_tf1 = 0; seq_tot = 0\n",
    "    set_tf1 = 0; set_tot = 0\n",
    "    \n",
    "    for k, v in seq_stat.items():\n",
    "        set_f1, n = compute_f1(*set_stat[k])\n",
    "        set_tf1 += n * set_f1\n",
    "        set_tot += n\n",
    "        seq_f1, n = compute_f1(*v)\n",
    "        seq_tf1 += n * seq_f1\n",
    "        seq_tot += n\n",
    "        print ('{:>10} {:10.3f} {:10.3f}'.format(\n",
    "            preprocessor.classes[k], seq_f1, set_f1))\n",
    "    print ('{:>10} {:10.3f} {:10.3f}'.format(\n",
    "        \"Average\", seq_tf1 / float(seq_tot), set_tf1 / float(set_tot)))\n",
    "    \n",
    "    \n",
    "def c_statistic_with_95p_confidence_interval(cstat, num_positives, num_negatives, z_alpha_2=1.96):\n",
    "    \"\"\"\n",
    "    Calculates the confidence interval of an ROC curve (c-statistic), using the method described\n",
    "    under \"Confidence Interval for AUC\" here:\n",
    "      https://ncss-wpengine.netdna-ssl.com/wp-content/themes/ncss/pdf/Procedures/PASS/Confidence_Intervals_for_the_Area_Under_an_ROC_Curve.pdf\n",
    "    Args:\n",
    "        cstat: the c-statistic (equivalent to area under the ROC curve)\n",
    "        num_positives: number of positive examples in the set.\n",
    "        num_negatives: number of negative examples in the set.\n",
    "        z_alpha_2 (optional): the critical value for an N% confidence interval, e.g., 1.96 for 95%,\n",
    "            2.326 for 98%, 2.576 for 99%, etc.\n",
    "    Returns:\n",
    "        The 95% confidence interval half-width, e.g., the Y in X ± Y.\n",
    "    \"\"\"\n",
    "    q1 = cstat / (2 - cstat)\n",
    "    q2 = 2 * cstat**2 / (1 + cstat)\n",
    "    numerator = cstat * (1 - cstat) \\\n",
    "        + (num_positives - 1) * (q1 - cstat**2) \\\n",
    "        + (num_negatives - 1) * (q2 - cstat**2)\n",
    "    standard_error_auc = math.sqrt(numerator / (num_positives * num_negatives))\n",
    "    return z_alpha_2 * standard_error_auc\n",
    "\n",
    "\n",
    "def roc_auc(ground_truth, probs, index):\n",
    "    gts = np.argmax(ground_truth, axis=2)\n",
    "    \n",
    "    n_gts = np.zeros_like(gts)\n",
    "    n_gts[gts==index] = 1\n",
    "    num_pos = np.sum(n_gts == 1)\n",
    "    num_neg = n_gts.size - num_pos\n",
    "    \n",
    "    n_probs = probs[..., index].squeeze()\n",
    "    \n",
    "    n_gts, n_probs = n_gts.ravel(), n_probs.ravel()\n",
    "    \n",
    "    return num_pos, num_neg, roc_auc_score(n_gts, n_probs)\n",
    "    \n",
    "    \n",
    "def roc_auc_set(ground_truth, probs, index):\n",
    "    gts = np.argmax(ground_truth, axis=2)\n",
    "    max_probs = np.max(probs[..., index], axis=1)\n",
    "    max_gts = np.any(gts==index, axis=1)\n",
    "    pos = np.sum(max_gts)\n",
    "    neg = max_gts.size - pos\n",
    "    return pos, neg, roc_auc_score(max_gts, max_probs)\n",
    "\n",
    "\n",
    "def print_aucs(ground_truth, probs):\n",
    "    seq_tauc = 0.0; seq_tot = 0.0\n",
    "    set_tauc = 0.0; set_tot = 0.0\n",
    "    print ('\\t\\t\\t        AUC')\n",
    "    for idx, cname in preprocessor.int_to_class.items():\n",
    "        cname = cname\n",
    "        pos, neg, seq_auc = roc_auc(ground_truth, probs, idx)\n",
    "        seq_tot += pos\n",
    "        seq_tauc += pos * seq_auc\n",
    "        seq_conf = c_statistic_with_95p_confidence_interval(seq_auc, pos, neg)\n",
    "        pos, neg, set_auc = roc_auc_set(ground_truth, probs, idx)\n",
    "        set_tot += pos\n",
    "        set_tauc += pos * set_auc\n",
    "        set_conf = c_statistic_with_95p_confidence_interval(set_auc, pos, neg)\n",
    "        print (\"{: <8}\\t{:.3f} ({:.3f}-{:.3f})\\t{:.3f} ({:.3f}-{:.3f})\".format(\n",
    "            cname, seq_auc, seq_auc-seq_conf,seq_auc+seq_conf,\n",
    "            set_auc, set_auc-set_conf, set_auc+set_conf))\n",
    "    print ('Average\\t\\t{:.3f}\\t\\t\\t{:.3f}'.format(seq_tauc/seq_tot, set_tauc/set_tot))"
   ]
  },
  {
   "cell_type": "code",
   "execution_count": 11,
   "metadata": {},
   "outputs": [
    {
     "name": "stdout",
     "output_type": "stream",
     "text": [
      "\t\t Seq F1    Set F1\n",
      "         A      0.741      0.764\n",
      "         N      0.789      0.853\n",
      "         O      0.600      0.515\n",
      "         ~      0.863      0.994\n",
      "   Average      0.795      0.869\n",
      "\n",
      "\n",
      "\t\t\t        AUC\n",
      "A       \t0.986 (0.983-0.989)\t0.981 (0.959-1.003)\n",
      "N       \t0.928 (0.925-0.930)\t0.891 (0.869-0.912)\n",
      "O       \t0.864 (0.859-0.869)\t0.875 (0.844-0.905)\n",
      "~       \t0.986 (0.985-0.987)\t0.999 (0.998-1.001)\n",
      "Average\t\t0.949\t\t\t0.945\n"
     ]
    }
   ],
   "source": [
    "print_results(stats(labels, probs), set_stats(labels, probs))\n",
    "print('\\n')\n",
    "print_aucs(labels, probs)"
   ]
  },
  {
   "cell_type": "code",
   "execution_count": null,
   "metadata": {},
   "outputs": [],
   "source": []
  }
 ],
 "metadata": {
  "kernelspec": {
   "display_name": "Python 3.7 (tensorflow)",
   "language": "python",
   "name": "tensorflow"
  },
  "language_info": {
   "codemirror_mode": {
    "name": "ipython",
    "version": 3
   },
   "file_extension": ".py",
   "mimetype": "text/x-python",
   "name": "python",
   "nbconvert_exporter": "python",
   "pygments_lexer": "ipython3",
   "version": "3.7.7"
  }
 },
 "nbformat": 4,
 "nbformat_minor": 4
}
